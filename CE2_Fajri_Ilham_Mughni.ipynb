{
  "cells": [
    {
      "cell_type": "markdown",
      "metadata": {
        "id": "cMrT-5F164qj"
      },
      "source": [
        "## Welcome to the Coding Challenge Part 2!"
      ]
    },
    {
      "cell_type": "markdown",
      "metadata": {
        "id": "79NwqjIq64qr"
      },
      "source": [
        "###**Problem 1: Who is in the third place?**"
      ]
    },
    {
      "cell_type": "markdown",
      "metadata": {
        "id": "9db_O8Co64qs"
      },
      "source": [
        "Buatlah fungsi dengan nama ```third_place``` yang dapat melakukan aktifitas berikut:\n",
        "\n",
        "Diberikan daftar nilai ujian dan daftar nama peserta. Output yang diinginkan adalah nama peserta yang mendapat nilai terbaik ke-3. Aturan penentuan urutan skor terbaik adalah sebagai berikut:\n",
        "- Skor yang lebih tinggi lebih baik\n",
        "- Apabila beberapa peserta memiliki skor tes yang sama, mereka dapat menempati nilai peringkat yang sama. Misalnya, jika 2 peserta mendapat nilai 100, maka keduanya menempati urutan pertama.\n",
        "\n",
        "Input pertama dari fungsi adalah daftar nama, dan input kedua pada fungsi adalah daftar skor.\n",
        "\n",
        "##### Example 1:\n",
        "\n",
        "Input:\n",
        "\n",
        "names = [Andi, Budi, Charlie, Dilan, Echa]\n",
        "\n",
        "score = [80, 90, 95, 100, 85]\n",
        "\n",
        "Artinya, Andi mendapat nilai 80, Budi mendapat nilai 90, Charlie mendapat nilai 95, Dilan mendapat nilai 100, dan Echa mendapat nilai 85. Nilai terbaik pertama adalah 100, dan Dilan mendapat nilai. Skor terbaik kedua adalah 95, dan Charlie mendapatkannya. Skor terbaik ketiga adalah 90, dan Budi mendapatkannya. Jadi output kita harus Budi.\n",
        "\n",
        "Output: 'The third winner: Budi'.\n",
        "\n",
        "Saat kita menjalankan ```third_place(names, score)```, outputnya akan 'The third winner: Budi'.\n",
        "\n",
        "##### Example 2:\n",
        "\n",
        "Input:\n",
        "\n",
        "names = [Andi, Budi, Charlie, Dilan, Echa]\n",
        "\n",
        "score = [80, 80, 80, 100, 90]\n",
        "\n",
        "Tartinya, Andi, Budi, dan Charlie mendapat nilai 80, Dilan mendapat nilai 100, dan Echa mendapat nilai 90. Nilai terbaik ketiga adalah 80, dan output kita harus mencantumkan SEMUA peserta yang mendapat nilai 80.\n",
        "\n",
        "Output: 'The third winner: Andi, Budi, Charlie'.\n",
        "\n",
        "Apabila kita menjalankan ```third_place(names, score)```, outputnya adalah 'The third winner: Andi, Budi, Charlie'.\n",
        "\n",
        "\n",
        "##### Example 3:\n",
        "\n",
        "Input:\n",
        "\n",
        "names = [Andi, Budi, Charlie, Dilan, Echa, Fanya]\n",
        "\n",
        "score = [80, 90, 90, 100, 100, 80]\n",
        "\n",
        "Skor terbaik pertama (juara pertama) adalah 100 - Dilan dan Echa berbagi posisi ini. Skor terbaik kedua (pemenang kedua) adalah 90 - Budi dan Charlie berbagi posisi ini. Skor terbaik ketiga (juara ketiga) adalah 80, dan itu dibagi oleh Andi dan Fanya. Jadi, output kita harusnya Andi dan Fanya.\n",
        "\n",
        "Output: 'The third winner: Andi, Fanya'."
      ]
    },
    {
      "cell_type": "code",
      "source": [
        "def third_place(names, score):\n",
        "    data_siswa = list(zip(names, score)) # zip digunakan untuk menghubungkan variable names dan score agar selalu bersamaan di dalam variable data_siswa\n",
        "    data_siswa.sort(key=lambda x: x[1], reverse=True) # sort digunakan untuk mengurutkan variable data_siswa yang sudah di zip\n",
        "    return data_siswa[4][0] , data_siswa[5][0] # data_siswa [4][0] , data_siswa[5][0] bisa diubah sesuai dengan orde yang ada pada list names dan score\n",
        "\n",
        "names = [\"Andi\", \"Budi\", \"Charlie\", \"Dilan\", \"Echa\", \"Fanya\"] # bisa diubah sesuai dengan data yang ingin dicari\n",
        "score = [80, 90, 90, 100, 100, 80] # bisa diubah sesuai dengan data yang ingin dicari\n",
        "\n",
        "third_place_winner = third_place(names, score)\n",
        "\n",
        "print(f\"The third winner: {third_place_winner}\")"
      ],
      "metadata": {
        "colab": {
          "base_uri": "https://localhost:8080/"
        },
        "id": "yZInUq8O_129",
        "outputId": "77243086-7a26-4484-b873-20fc3c5acba2"
      },
      "execution_count": 39,
      "outputs": [
        {
          "output_type": "stream",
          "name": "stdout",
          "text": [
            "The third winner: ('Andi', 'Fanya')\n"
          ]
        }
      ]
    },
    {
      "cell_type": "markdown",
      "metadata": {
        "id": "1ydxvEez64q3"
      },
      "source": [
        "###**Problem 2: Find the Square Root!**"
      ]
    },
    {
      "cell_type": "markdown",
      "metadata": {
        "id": "nvcBPlgV64q5"
      },
      "source": [
        "Buatlah fungsi dengan nama ```square_root``` yang dapat melakukan fungsi berikut:\n",
        "\n",
        "Diberikan polinomial orde kedua, temukan akarnya (akar harus dalam bilangan real). Inputnya adalah 3 angka, masing-masing mewakili 'a', 'b', dan 'c', dalam ax^2 + bx + c = 0.\n",
        "\n",
        "Tugas Anda adalah mencari akar dari ax^2 + bx + c = 0.\n",
        "\n",
        "Namun, perhatikan bahwa terkadang persamaan tidak dapat diselesaikan, atau hanya memiliki satu solusi, bukan dua. Fungsi Anda juga harus mempertimbangkan hal ini.\n",
        "\n",
        "Input fungsi Anda adalah 3 angka, angka pertama adalah konstanta 'a', angka kedua adalah konstanta 'b', dan angka ketiga adalah konstanta 'c'.\n",
        "\n",
        "##### Example 1:\n",
        "\n",
        "Input: a = 1, b = -5, c = 6.\n",
        "\n",
        "Artinya, persamaannya adalah 1x^2 - 5x + 6 = 0.\n",
        "Persamaan ini memiliki dua solusi, solusi pertama adalah x = 3, dan solusi kedua adalah x = 2. Jadi, keluaran Anda seharusnya adalah:\n",
        "\n",
        "Output: 'X1 = 3, X2 = 2'.\n",
        "\n",
        "Apabila kita menjalankan kode ```square_root(1, -5, 6)``` maka outputnya adalah: 'X1 = 3, X2 = 2'\n",
        "\n",
        "##### Example 2:\n",
        "\n",
        "Input: a = 2, b = 4, c = 2.\n",
        "\n",
        "Artinya, persamaannya adalah 2x^2 + 4x + 2 = 0.\n",
        "Persamaan ini hanya memiliki satu solusi, yaitu x = -1.\n",
        "\n",
        "Output; 'X = -1'.\n",
        "\n",
        "##### Example 3:\n",
        "\n",
        "Input: a = 1, b = 1, c = 9.\n",
        "\n",
        "Artinya, persamaannya adalah x^2 + x + 9 = 0.\n",
        "Persamaan ini tidak memiliki solusi nyata. (Jika Anda telah belajar tentang bilangan imajiner atau kompleks, solusi dari persamaan ini adalah bilangan-bilangan tersebut. Tapi di sini, kita hanya akan berurusan dengan bilangan real).\n",
        "\n",
        "Output: 'No solution'."
      ]
    },
    {
      "cell_type": "code",
      "execution_count": 48,
      "metadata": {
        "id": "i3_ebfGq64q6",
        "colab": {
          "base_uri": "https://localhost:8080/"
        },
        "outputId": "056da4b0-06c5-4f9b-e76e-84f0219c1b59"
      },
      "outputs": [
        {
          "output_type": "stream",
          "name": "stdout",
          "text": [
            "Masukkan koefisien a: 1\n",
            "Masukkan koefisien b: -5\n",
            "Masukkan koefisien c: 6\n",
            "Akar-akar persamaan kuadrat:\n",
            "X 1: 3.0\n",
            "X 2: 2.0\n"
          ]
        }
      ],
      "source": [
        "import math\n",
        "\n",
        "def find_square_roots(a, b, c):\n",
        "    \"\"\"Fungsi untuk menemukan akar-akar persamaan kuadrat ax^2 + bx + c = 0.\"\"\"\n",
        "    # Menghitung diskriminan\n",
        "    discriminant = b**2 - 4*a*c\n",
        "\n",
        "    # Memeriksa diskriminan untuk menentukan tipe akar\n",
        "    if discriminant > 0:\n",
        "        # Dua akar real berbeda\n",
        "        root1 = (-b + math.sqrt(discriminant)) / (2*a)\n",
        "        root2 = (-b - math.sqrt(discriminant)) / (2*a)\n",
        "        return root1, root2\n",
        "    elif discriminant == 0:\n",
        "        # Dua akar real sama\n",
        "        root = -b / (2*a)\n",
        "        return root,\n",
        "    else:\n",
        "        # Akar imajiner (tidak ada akar real)\n",
        "        return print(\"No solution.\")\n",
        "\n",
        "# Mengambil input koefisien dari pengguna\n",
        "a = float(input(\"Masukkan koefisien a: \"))\n",
        "b = float(input(\"Masukkan koefisien b: \"))\n",
        "c = float(input(\"Masukkan koefisien c: \"))\n",
        "\n",
        "# Memanggil fungsi untuk menemukan akar-akar persamaan kuadrat\n",
        "roots = find_square_roots(a, b, c)\n",
        "\n",
        "# Menampilkan hasil\n",
        "print(\"Akar-akar persamaan kuadrat:\")\n",
        "for i, root in enumerate(roots, start=1):\n",
        "    print(f\"X {i}: {root}\")\n"
      ]
    },
    {
      "cell_type": "markdown",
      "metadata": {
        "id": "NntHmMB164q-"
      },
      "source": [
        "1###**Problem 3: Find Distance Between Two Coordinates - Easy**"
      ]
    },
    {
      "cell_type": "markdown",
      "metadata": {
        "id": "12EaDJlE64q_"
      },
      "source": [
        "Buatlah fungsi dengan namna ```distance``` yang dapat melakukan fungsi berikut:\n",
        "\n",
        "Diberikan dua koordinat dalam daftar. Tugas Anda adalah menghitung jarak antara kedua koordinat tersebut. Input dari fungsi Anda akan menjadi dua daftar. Setiap daftar berisi 2 anggota, mewakili posisi x dan y.\n",
        "\n",
        "##### Example 1:\n",
        "\n",
        "Input:\n",
        "\n",
        "point_1 = [5, 5]\n",
        "\n",
        "point_2 = [1, 2]\n",
        "\n",
        "Artinya, koordinat titik pertama adalah (5,5), koordinat titik kedua adalah (1,2). Untuk menghitung jarak antara dua titik ini, kami menggunakan rumus jarak euclidean biasa di sini: https://wikimedia.org/api/rest_v1/media/math/render/svg/2e0c9ce1b3455cb9e92c6bad6684dbda02f69c82.\n",
        "\n",
        "Jaraknya adalah:\n",
        "\n",
        "Akar kuadrat dari ((5-1)^2 + (5-2)^2) = Akar kuadrat dari (16 + 9) = Akar kuadrat dari (25) = 5.\n",
        "\n",
        "Output: 'The distance is 5.'\n",
        "\n",
        "Maka, ketika kita menjalankan kode ```distance(point_1, point_2)``` outputnya akan 'The distance is 5'.\n",
        "\n",
        "##### Example 2:\n",
        "\n",
        "Input:\n",
        "\n",
        "point_1 = [0,-1]\n",
        "\n",
        "point_2 = [-3, 2]\n",
        "\n",
        "Koordinat pertama adalah (0,-1), koordinat kedua adalah (-3,2). Jarak antara mereka adalah:\n",
        "\n",
        "Akar kuadrat dari ((0- -3)^2 + (-1-2)^2) = Akar kuadrat dari (9 + 9) = Akar kuadrat dari (18) = 4,242640687\n",
        "\n",
        "Output: 'The distance is 4.242640687'.\n",
        "\n",
        "Maka, apabila kita menjalankan kode ```distance(point_1, point_2)``` outputnya adalah 'The distance is 4.242640487'.\n",
        "\n",
        "##### FAQ:\n",
        "\n",
        "- Question: \"Desimalnya dibuletin ga?\"\n",
        "- Answer: \"Ga usah peduliin format output desimalnya. Mau keluar berapa angka di belakang koma gpp kok. Yang penting value nya bener.\""
      ]
    },
    {
      "cell_type": "code",
      "execution_count": 1,
      "metadata": {
        "id": "4rmwX2y564rA",
        "colab": {
          "base_uri": "https://localhost:8080/"
        },
        "outputId": "e4cc340f-e3dc-4c77-a24e-d74815cbed37"
      },
      "outputs": [
        {
          "output_type": "stream",
          "name": "stdout",
          "text": [
            "Masukkan koordinat x untuk titik pertama: 5\n",
            "Masukkan koordinat y untuk titik pertama: 5\n",
            "Masukkan koordinat x untuk titik kedua: 1\n",
            "Masukkan koordinat y untuk titik kedua: 2\n",
            "Jarak antara titik pertama dan kedua adalah: 5.0\n"
          ]
        }
      ],
      "source": [
        "import math\n",
        "\n",
        "def distance(point_1, point_2):\n",
        "    \"\"\"Fungsi untuk menghitung jarak antara dua titik koordinat.\"\"\"\n",
        "    x1, y1 = point_1\n",
        "    x2, y2 = point_2\n",
        "    distance = math.sqrt((x2 - x1)**2 + (y2 - y1)**2)\n",
        "    return distance\n",
        "\n",
        "# Mengambil input koordinat dari pengguna\n",
        "point1_x = float(input(\"Masukkan koordinat x untuk titik pertama: \"))\n",
        "point1_y = float(input(\"Masukkan koordinat y untuk titik pertama: \"))\n",
        "point2_x = float(input(\"Masukkan koordinat x untuk titik kedua: \"))\n",
        "point2_y = float(input(\"Masukkan koordinat y untuk titik kedua: \"))\n",
        "\n",
        "# Menyusun titik koordinat menjadi tuple\n",
        "point_1 = (point1_x, point1_y)\n",
        "point_2 = (point2_x, point2_y)\n",
        "\n",
        "# Memanggil fungsi untuk menghitung jarak\n",
        "result = distance(point_1, point_2)\n",
        "\n",
        "# Menampilkan hasil\n",
        "print(f\"Jarak antara titik pertama dan kedua adalah: {result}\")\n",
        ""
      ]
    }
  ],
  "metadata": {
    "colab": {
      "provenance": []
    },
    "kernelspec": {
      "display_name": "Python 3",
      "language": "python",
      "name": "python3"
    },
    "language_info": {
      "codemirror_mode": {
        "name": "ipython",
        "version": 3
      },
      "file_extension": ".py",
      "mimetype": "text/x-python",
      "name": "python",
      "nbconvert_exporter": "python",
      "pygments_lexer": "ipython3",
      "version": "3.7.0"
    }
  },
  "nbformat": 4,
  "nbformat_minor": 0
}